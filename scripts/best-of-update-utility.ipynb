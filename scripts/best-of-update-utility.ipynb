{
 "cells": [
  {
   "cell_type": "markdown",
   "metadata": {},
   "source": [
    "# Best-of Update Utility <a class=\"tocSkip\">"
   ]
  },
  {
   "cell_type": "markdown",
   "metadata": {},
   "source": [
    "**In this notebook:**\n",
    "\n",
    "- Collect and update the projects in the best-of list\n",
    "\n",
    "_Please use a Python 3 kernel for the notebook_"
   ]
  },
  {
   "cell_type": "markdown",
   "metadata": {},
   "source": [
    "## Dependencies"
   ]
  },
  {
   "cell_type": "markdown",
   "metadata": {},
   "source": [
    "### Install Dependencies"
   ]
  },
  {
   "cell_type": "code",
   "execution_count": null,
   "metadata": {
    "ExecuteTime": {
     "end_time": "2021-12-12T10:53:46.192939Z",
     "start_time": "2021-12-12T10:53:33.991256Z"
    }
   },
   "outputs": [],
   "source": [
    "!pip install --upgrade best-of"
   ]
  },
  {
   "cell_type": "code",
   "execution_count": null,
   "metadata": {},
   "outputs": [],
   "source": [
    "# Clone all best-of lists here"
   ]
  },
  {
   "cell_type": "markdown",
   "metadata": {},
   "source": [
    "### Import Dependencies"
   ]
  },
  {
   "cell_type": "code",
   "execution_count": null,
   "metadata": {
    "ExecuteTime": {
     "end_time": "2022-01-17T03:41:37.862067Z",
     "start_time": "2022-01-17T03:41:37.825656Z"
    }
   },
   "outputs": [],
   "source": [
    "%load_ext autoreload\n",
    "%autoreload 2\n",
    "\n",
    "# System libraries\n",
    "import logging, os, sys\n",
    "import re, shutil\n",
    "import subprocess\n",
    "import time\n",
    "import collections\n",
    "import yaml\n",
    "import glob, os\n",
    "import json\n",
    "from tqdm import tqdm\n",
    "from collections import Counter, OrderedDict\n",
    "from datetime import datetime\n",
    "from typing import Tuple, Optional, List\n",
    "\n",
    "# Enable logging\n",
    "logging.basicConfig(\n",
    "    format=\"[%(levelname)s] %(message)s\", level=logging.INFO, stream=sys.stdout\n",
    ")\n",
    "\n",
    "log = logging.getLogger()\n",
    "\n",
    "import numpy as np\n",
    "import pandas as pd\n",
    "import yaml\n",
    "from addict import Dict\n",
    "import qgrid\n",
    "\n",
    "from best_of import utils, yaml_generation\n",
    "from best_of.integrations import libio_integration, github_integration\n",
    "from best_of.generator import parse_projects_yaml\n",
    "\n",
    "os.environ[\"LIBRARIES_API_KEY\"] = \"<LIBRARIES_API_KEY>\"\n",
    "os.environ[\"GITHUB_API_KEY\"] = \"<GITHUB_API_KEY>\""
   ]
  },
  {
   "cell_type": "markdown",
   "metadata": {},
   "source": [
    "## Load Projects"
   ]
  },
  {
   "cell_type": "code",
   "execution_count": null,
   "metadata": {
    "ExecuteTime": {
     "end_time": "2022-01-17T03:41:39.883179Z",
     "start_time": "2022-01-17T03:41:39.857614Z"
    }
   },
   "outputs": [],
   "source": [
    "extracted_projects = []"
   ]
  },
  {
   "cell_type": "markdown",
   "metadata": {},
   "source": [
    "### Load best-of history files for exclusion\n",
    "\n",
    "Select all history files from which the projects will be excluded for extraction below."
   ]
  },
  {
   "cell_type": "code",
   "execution_count": null,
   "metadata": {
    "ExecuteTime": {
     "end_time": "2022-01-17T03:41:41.541541Z",
     "start_time": "2022-01-17T03:41:41.437303Z"
    }
   },
   "outputs": [],
   "source": [
    "# CHANGE: Add all relevant history files here:\n",
    "BEST_OF_LISTS = []\n",
    "\n",
    "# Combine all best-of-lists into one based on github_id\n",
    "github_projects = {}\n",
    "for project_csv_path in BEST_OF_LISTS:\n",
    "    df_projects = pd.read_csv(project_csv_path, index_col=0, keep_default_na=False)\n",
    "    for i, row in df_projects.iterrows():\n",
    "        if \"github_id\" in row and row[\"github_id\"]:\n",
    "            github_id = utils.simplify_str(row[\"github_id\"])\n",
    "            if github_id not in github_projects:\n",
    "                github_projects[github_id] = row.to_dict()\n",
    "\n",
    "df_existing_projects = pd.DataFrame(github_projects.values())\n",
    "\n",
    "excluded_github_ids = []\n",
    "\n",
    "if \"github_id\" in df_existing_projects:\n",
    "    excluded_github_ids = df_existing_projects[\"github_id\"].to_list()"
   ]
  },
  {
   "cell_type": "code",
   "execution_count": null,
   "metadata": {
    "ExecuteTime": {
     "end_time": "2022-01-17T03:41:42.743557Z",
     "start_time": "2022-01-17T03:41:42.687838Z"
    }
   },
   "outputs": [],
   "source": [
    "# Show loaded projects\n",
    "qgrid.show_grid(\n",
    "    df_existing_projects[[\"github_id\", \"github_url\", \"projectrank\", \"license\", \"star_count\"]]\n",
    ")"
   ]
  },
  {
   "cell_type": "markdown",
   "metadata": {},
   "source": [
    "### Optional: Load Projects from Github Org"
   ]
  },
  {
   "cell_type": "code",
   "execution_count": null,
   "metadata": {
    "ExecuteTime": {
     "end_time": "2022-01-17T03:41:48.680082Z",
     "start_time": "2022-01-17T03:41:48.654971Z"
    }
   },
   "outputs": [],
   "source": [
    "# CHANGE: Map one or more Github Orgs to a group ID\n",
    "GITHUB_ORG_MAPPING = {\n",
    "    # \"group_id\": [\"github_org_1\", \"github_org_2\"]\n",
    "}"
   ]
  },
  {
   "cell_type": "markdown",
   "metadata": {},
   "source": [
    "#### Find duplicated usage of github orgs"
   ]
  },
  {
   "cell_type": "code",
   "execution_count": null,
   "metadata": {
    "ExecuteTime": {
     "end_time": "2022-01-17T03:41:50.009059Z",
     "start_time": "2022-01-17T03:41:49.969847Z"
    }
   },
   "outputs": [],
   "source": [
    "UNIQUE_ORGS = set()\n",
    "for group in GITHUB_ORG_MAPPING.keys():\n",
    "    organizations = GITHUB_ORG_MAPPING[group]\n",
    "    for org in organizations:\n",
    "        org = org.lower()\n",
    "        if org in UNIQUE_ORGS:\n",
    "            print(f\"Org {org} is duplicated with {group}\")\n",
    "        else:\n",
    "            UNIQUE_ORGS.add(org)"
   ]
  },
  {
   "cell_type": "markdown",
   "metadata": {},
   "source": [
    "#### Collect projects from orgs"
   ]
  },
  {
   "cell_type": "code",
   "execution_count": null,
   "metadata": {
    "ExecuteTime": {
     "end_time": "2022-01-17T03:41:51.365215Z",
     "start_time": "2022-01-17T03:41:51.321725Z"
    }
   },
   "outputs": [],
   "source": [
    "for group in GITHUB_ORG_MAPPING.keys():\n",
    "    organizations = GITHUB_ORG_MAPPING[group]\n",
    "    for org in organizations:\n",
    "        projects = yaml_generation.get_projects_from_org(org, min_stars=15)\n",
    "\n",
    "        # Run github link extraction on the provided file\n",
    "        extracted_projects = yaml_generation.collect_github_projects(\n",
    "            projects,\n",
    "            excluded_github_ids,\n",
    "            existing_projects=extracted_projects,\n",
    "            group=group.lower()\n",
    "        )"
   ]
  },
  {
   "cell_type": "markdown",
   "metadata": {},
   "source": [
    "#### Show extracted projects"
   ]
  },
  {
   "cell_type": "code",
   "execution_count": null,
   "metadata": {
    "ExecuteTime": {
     "end_time": "2022-01-17T03:41:52.979285Z",
     "start_time": "2022-01-17T03:41:52.787384Z"
    }
   },
   "outputs": [],
   "source": [
    "qgrid.show_grid(\n",
    "    pd.DataFrame(extracted_projects)[\n",
    "        [\"github_id\", \"projectrank\", \"license\", \"star_count\", \"group_id\"]\n",
    "    ]\n",
    ")"
   ]
  },
  {
   "cell_type": "markdown",
   "metadata": {},
   "source": [
    "### Optional: Extract projects via Github URL matching"
   ]
  },
  {
   "cell_type": "code",
   "execution_count": null,
   "metadata": {
    "ExecuteTime": {
     "end_time": "2022-01-17T03:41:54.257439Z",
     "start_time": "2022-01-17T03:41:54.228570Z"
    }
   },
   "outputs": [],
   "source": [
    "TEXT_DATA = \"\"\"\n",
    "\"\"\""
   ]
  },
  {
   "cell_type": "code",
   "execution_count": null,
   "metadata": {
    "ExecuteTime": {
     "end_time": "2022-01-17T03:43:21.707415Z",
     "start_time": "2022-01-17T03:41:55.713682Z"
    }
   },
   "outputs": [],
   "source": [
    "# CHANGE: Select a file via URL, file-path, or provide the string content here:\n",
    "EXTRACT_FROM_DATA = [\n",
    "    TEXT_DATA,\n",
    "    # add additional URLS or files\n",
    "]\n",
    "\n",
    "# Run github link extraction on the provided file\n",
    "extracted_projects = yaml_generation.extract_github_projects(\n",
    "    EXTRACT_FROM_DATA,\n",
    "    excluded_github_ids=excluded_github_ids,\n",
    "    existing_projects=extracted_projects,\n",
    ")"
   ]
  },
  {
   "cell_type": "code",
   "execution_count": null,
   "metadata": {
    "ExecuteTime": {
     "end_time": "2022-01-17T03:43:21.771717Z",
     "start_time": "2022-01-17T03:43:21.709696Z"
    }
   },
   "outputs": [],
   "source": [
    "# Show extracted projects\n",
    "qgrid.show_grid(\n",
    "    pd.DataFrame(extracted_projects)[\n",
    "        [\"github_id\", \"projectrank\", \"license\", \"star_count\"]\n",
    "    ]\n",
    ")"
   ]
  },
  {
   "cell_type": "markdown",
   "metadata": {},
   "source": [
    "### Optional: Extract pypi projects via URL matching "
   ]
  },
  {
   "cell_type": "code",
   "execution_count": null,
   "metadata": {
    "ExecuteTime": {
     "end_time": "2022-01-17T03:02:48.704685Z",
     "start_time": "2022-01-17T03:02:48.662548Z"
    }
   },
   "outputs": [],
   "source": [
    "TEXT_DATA = \"\"\"\n",
    "\n",
    "\"\"\""
   ]
  },
  {
   "cell_type": "code",
   "execution_count": null,
   "metadata": {
    "ExecuteTime": {
     "end_time": "2022-01-17T03:02:50.182757Z",
     "start_time": "2022-01-17T03:02:50.148244Z"
    }
   },
   "outputs": [],
   "source": [
    "# LIBRARIES_API_KEY should be set!\n",
    "# os.environ[\"LIBRARIES_API_KEY\"] = \"<LIBRARIES-TOKEN>\"\n",
    "\n",
    "# CHANGE: Select a file via URL, file-path, or provide the string content here:\n",
    "EXTRACT_FROM_DATA = [\n",
    "    TEXT_DATA,\n",
    "    # add additional URLS or files\n",
    "]\n",
    "\n",
    "# Extract projects\n",
    "extracted_projects = yaml_generation.extract_pypi_projects(\n",
    "    EXTRACT_FROM_DATA,\n",
    "    excluded_github_ids,\n",
    "    existing_projects=extracted_projects,\n",
    ")"
   ]
  },
  {
   "cell_type": "code",
   "execution_count": null,
   "metadata": {
    "ExecuteTime": {
     "end_time": "2022-01-17T02:50:08.105593Z",
     "start_time": "2022-01-17T02:50:07.873892Z"
    }
   },
   "outputs": [],
   "source": [
    "# Show extracted projects\n",
    "qgrid.show_grid(\n",
    "    pd.DataFrame(extracted_projects)[\n",
    "        [\"github_id\", \"pypi_id\", \"projectrank\", \"license\", \"star_count\"]\n",
    "    ]\n",
    ")"
   ]
  },
  {
   "cell_type": "markdown",
   "metadata": {},
   "source": [
    "### Optional: Extract projects from requirements.txt"
   ]
  },
  {
   "cell_type": "code",
   "execution_count": null,
   "metadata": {
    "ExecuteTime": {
     "end_time": "2022-01-17T02:50:09.857258Z",
     "start_time": "2022-01-17T02:50:09.829250Z"
    }
   },
   "outputs": [],
   "source": [
    "TEXT_DATA = \"\"\"\n",
    "\"\"\""
   ]
  },
  {
   "cell_type": "code",
   "execution_count": null,
   "metadata": {
    "ExecuteTime": {
     "end_time": "2022-01-17T02:50:11.524801Z",
     "start_time": "2022-01-17T02:50:11.492912Z"
    }
   },
   "outputs": [],
   "source": [
    "# LIBRARIES_API_KEY should be set!\n",
    "# os.environ[\"LIBRARIES_API_KEY\"] = \"<LIBRARIES-TOKEN>\"\n",
    "\n",
    "# CHANGE: Select a file via URL, file-path, or provide the string content here:\n",
    "EXTRACT_FROM_DATA = [\n",
    "    TEXT_DATA,\n",
    "    # add additional URLS or files\n",
    "]\n",
    "\n",
    "# Extract projects\n",
    "extracted_projects = yaml_generation.extract_pypi_projects_from_requirements(\n",
    "    EXTRACT_FROM_DATA,\n",
    "    df_projects[\"pypi_id\"].to_list(),\n",
    "    existing_projects=extracted_projects,\n",
    ")"
   ]
  },
  {
   "cell_type": "code",
   "execution_count": null,
   "metadata": {
    "ExecuteTime": {
     "end_time": "2022-01-17T02:34:22.523134Z",
     "start_time": "2022-01-17T02:34:22.445672Z"
    }
   },
   "outputs": [],
   "source": [
    "# Show extracted projects\n",
    "qgrid.show_grid(\n",
    "    pd.DataFrame(extracted_projects)[\n",
    "        [\"github_id\", \"pypi_id\", \"projectrank\", \"license\", \"star_count\"]\n",
    "    ]\n",
    ")"
   ]
  },
  {
   "cell_type": "markdown",
   "metadata": {},
   "source": [
    "## Update project metadata"
   ]
  },
  {
   "cell_type": "code",
   "execution_count": null,
   "metadata": {
    "ExecuteTime": {
     "end_time": "2022-01-17T03:43:21.803760Z",
     "start_time": "2022-01-17T03:43:21.775160Z"
    }
   },
   "outputs": [],
   "source": [
    "updated_projects = extracted_projects"
   ]
  },
  {
   "cell_type": "markdown",
   "metadata": {},
   "source": [
    "### Optional: Check & remove outdated packages (TODO)"
   ]
  },
  {
   "cell_type": "code",
   "execution_count": null,
   "metadata": {},
   "outputs": [],
   "source": [
    "# TODO"
   ]
  },
  {
   "cell_type": "markdown",
   "metadata": {},
   "source": [
    "### Optional: Auto discover project packages via libraries.io"
   ]
  },
  {
   "cell_type": "code",
   "execution_count": null,
   "metadata": {
    "ExecuteTime": {
     "end_time": "2022-01-17T03:43:25.289311Z",
     "start_time": "2022-01-17T03:43:21.806969Z"
    }
   },
   "outputs": [],
   "source": [
    "updated_projects = yaml_generation.auto_extend_via_libio(\n",
    "    updated_projects, selected_package_manager=None\n",
    ")"
   ]
  },
  {
   "cell_type": "markdown",
   "metadata": {},
   "source": [
    "### Optional: Auto discover project packages via name match"
   ]
  },
  {
   "cell_type": "code",
   "execution_count": null,
   "metadata": {
    "ExecuteTime": {
     "end_time": "2022-01-17T03:43:25.329252Z",
     "start_time": "2022-01-17T03:43:25.291773Z"
    }
   },
   "outputs": [],
   "source": [
    "# CHANGE: Activate the package managers that are relevant for the given best-of-list\n",
    "updated_projects = yaml_generation.auto_extend_package_manager(\n",
    "    updated_projects, pypi=False, conda=False, npm=True\n",
    ")"
   ]
  },
  {
   "cell_type": "markdown",
   "metadata": {},
   "source": [
    "## Finalize projects.yaml"
   ]
  },
  {
   "cell_type": "markdown",
   "metadata": {},
   "source": [
    "### Sort out and prepare projects"
   ]
  },
  {
   "cell_type": "code",
   "execution_count": null,
   "metadata": {
    "ExecuteTime": {
     "end_time": "2022-01-17T03:43:25.390249Z",
     "start_time": "2022-01-17T03:43:25.360153Z"
    }
   },
   "outputs": [],
   "source": [
    "# CHANGE values\n",
    "MIN_STAR_COUNT = 30\n",
    "MIN_UPDATE_DATE = \"2020-01-01\""
   ]
  },
  {
   "cell_type": "code",
   "execution_count": null,
   "metadata": {
    "ExecuteTime": {
     "end_time": "2022-01-17T03:43:25.430870Z",
     "start_time": "2022-01-17T03:43:25.393831Z"
    }
   },
   "outputs": [],
   "source": [
    "# Add column to select projects\n",
    "df_updated_projects = pd.DataFrame(updated_projects)\n",
    "\n",
    "# Filter out by date: Updated after selected date:\n",
    "df_updated_projects = df_updated_projects[\n",
    "    (df_updated_projects[\"updated_at\"] > MIN_UPDATE_DATE)\n",
    "]\n",
    "\n",
    "# Filter out by stars\n",
    "df_updated_projects = df_updated_projects[(df_updated_projects[\"star_count\"] > MIN_STAR_COUNT)]"
   ]
  },
  {
   "cell_type": "markdown",
   "metadata": {},
   "source": [
    "### Export selected columns"
   ]
  },
  {
   "cell_type": "code",
   "execution_count": null,
   "metadata": {
    "ExecuteTime": {
     "end_time": "2022-01-17T03:43:36.532242Z",
     "start_time": "2022-01-17T03:43:36.504212Z"
    }
   },
   "outputs": [],
   "source": [
    "# Select columns to show\n",
    "selected_column = [\n",
    "    \"name\",\n",
    "    \"description\",\n",
    "    \"github_id\",\n",
    "    \"projectrank\",\n",
    "    \"license\",\n",
    "    \"star_count\",\n",
    "    \"monthly_downloads\",\n",
    "    \"updated_at\",\n",
    "    \"group_id\"\n",
    "]\n",
    "\n",
    "# Add all available package managers\n",
    "from best_of.integrations import AVAILABLE_PACKAGE_MANAGER\n",
    "\n",
    "package_columns = list(\n",
    "    set(list(df_updated_projects.columns.values))\n",
    "    & set(\n",
    "        [package_manager.name + \"_id\" for package_manager in AVAILABLE_PACKAGE_MANAGER]\n",
    "    )\n",
    ")\n",
    "\n",
    "selected_column.extend(package_columns)\n",
    "\n",
    "if \"group_id\" not in df_updated_projects:\n",
    "    df_updated_projects[\"group_id\"] = None\n",
    "\n",
    "if \"monthly_downloads\" not in df_updated_projects:\n",
    "    df_updated_projects[\"monthly_downloads\"] = None"
   ]
  },
  {
   "cell_type": "markdown",
   "metadata": {},
   "source": [
    "### Optional: Fix duplicated names"
   ]
  },
  {
   "cell_type": "code",
   "execution_count": null,
   "metadata": {
    "ExecuteTime": {
     "end_time": "2022-01-17T03:43:38.471337Z",
     "start_time": "2022-01-17T03:43:38.433764Z"
    }
   },
   "outputs": [],
   "source": [
    "unique_names = set()\n",
    "projects = df_updated_projects.to_dict(\"records\")\n",
    "for project in projects:\n",
    "    name = project[\"name\"]\n",
    "    github_id = project[\"github_id\"]\n",
    "    if name.lower() in unique_names:\n",
    "        print(f\"Duplicated name {name} -> replacing with {github_id}.\")\n",
    "        project[\"name\"] = project[\"github_id\"]\n",
    "    else:\n",
    "        unique_names.add(name.lower())\n",
    "\n",
    "df_updated_projects = pd.DataFrame(projects)"
   ]
  },
  {
   "cell_type": "markdown",
   "metadata": {},
   "source": [
    "### Show and manually filter data"
   ]
  },
  {
   "cell_type": "code",
   "execution_count": null,
   "metadata": {
    "ExecuteTime": {
     "end_time": "2022-01-17T03:43:40.250690Z",
     "start_time": "2022-01-17T03:43:40.164927Z"
    }
   },
   "outputs": [],
   "source": [
    "# Show updated projects\n",
    "qgrid_updated_projects = qgrid.show_grid(\n",
    "    df_updated_projects[selected_column], show_toolbar=True\n",
    ")\n",
    "qgrid_updated_projects"
   ]
  },
  {
   "cell_type": "markdown",
   "metadata": {},
   "source": [
    "### Set categories for selected projects"
   ]
  },
  {
   "cell_type": "code",
   "execution_count": null,
   "metadata": {
    "ExecuteTime": {
     "end_time": "2022-01-17T03:43:42.129873Z",
     "start_time": "2022-01-17T03:43:42.068976Z"
    }
   },
   "outputs": [],
   "source": [
    "# Get changed df from qgrid widget\n",
    "df_selected_projects = qgrid_updated_projects.get_changed_df()\n",
    "\n",
    "df_selected_projects = df_selected_projects.where(\n",
    "    pd.notnull(df_selected_projects), None\n",
    ")\n",
    "\n",
    "df_selected_projects[\"category\"] = None\n",
    "df_selected_projects[\"labels\"] = None\n",
    "df_selected_projects[\"note\"] = None\n",
    "len(df_selected_projects)"
   ]
  },
  {
   "cell_type": "code",
   "execution_count": null,
   "metadata": {
    "ExecuteTime": {
     "end_time": "2022-01-17T03:43:43.512143Z",
     "start_time": "2022-01-17T03:43:43.412529Z"
    }
   },
   "outputs": [],
   "source": [
    "# Select columns to show\n",
    "selected_columns = [\n",
    "    \"name\",\n",
    "    \"description\",\n",
    "    \"github_id\",\n",
    "    \"category\",\n",
    "    \"labels\",\n",
    "    \"note\",\n",
    "    \"star_count\",\n",
    "    \"projectrank\",\n",
    "    \"group_id\",\n",
    "]\n",
    "\n",
    "selected_columns.extend(package_columns)\n",
    "\n",
    "# Print all available categories\n",
    "if \"category\" in df_existing_projects:\n",
    "    print(df_existing_projects[\"category\"].unique())\n",
    "\n",
    "# Show updated projects\n",
    "qgrid_finalized_projects = qgrid.show_grid(\n",
    "    df_selected_projects[selected_columns], show_toolbar=True\n",
    ")\n",
    "qgrid_finalized_projects"
   ]
  },
  {
   "cell_type": "markdown",
   "metadata": {},
   "source": [
    "### Export selected projects as YAML\n",
    "\n",
    "Export all select projects (interactively in qgrid table above) to yaml. This output can be easily added to a best-of `projects.yaml`."
   ]
  },
  {
   "cell_type": "code",
   "execution_count": null,
   "metadata": {
    "ExecuteTime": {
     "end_time": "2022-01-17T03:44:19.614000Z",
     "start_time": "2022-01-17T03:44:19.558968Z"
    }
   },
   "outputs": [],
   "source": [
    "# Get changed df from qgrid widget\n",
    "df_selected_projects = qgrid_finalized_projects.get_changed_df()\n",
    "\n",
    "# Filter all without category\n",
    "# TODO? df_selected_projects = df_selected_projects[df_selected_projects[\"category\"] == None]\n",
    "\n",
    "if 'projectrank' in df_selected_projects:\n",
    "    df_selected_projects = df_selected_projects.drop(['projectrank'], axis=1)\n",
    "\n",
    "# Replace empty value with nan\n",
    "df_selected_projects.replace(\"\", np.nan, inplace=True)\n",
    "# Remove all null and nan values\n",
    "df_selected_projects = df_selected_projects.where(\n",
    "    pd.notnull(df_selected_projects), None\n",
    ")\n",
    "\n",
    "from best_of.integrations import AVAILABLE_PACKAGE_MANAGER\n",
    "\n",
    "export_columns = [\"name\", \"github_id\", \"category\", \"labels\", \"note\", \"group_id\"]\n",
    "export_columns.extend(package_columns)\n",
    "\n",
    "selected_projects = df_selected_projects[export_columns].to_dict(\"records\")\n",
    "\n",
    "cleaned_projects = []\n",
    "for project in selected_projects:\n",
    "    if \"labels\" in project and project[\"labels\"]:\n",
    "        labels = project[\"labels\"]\n",
    "        if isinstance(project[\"labels\"], str):\n",
    "            labels = project[\"labels\"].split(\",\")\n",
    "            \n",
    "        project[\"labels\"] = str(\n",
    "            [label.strip().lower() for label in labels]\n",
    "        )\n",
    "\n",
    "    cleaned_projects.append({k: v for k, v in project.items() if v is not None})\n",
    "\n",
    "# Sort by category\n",
    "cleaned_projects = sorted(\n",
    "    cleaned_projects, key=lambda k: str(k[\"category\"]) if \"category\" in k else \"zzz\"\n",
    ")\n",
    "\n",
    "# Print categories\n",
    "if GITHUB_ORG_MAPPING:\n",
    "    print(\"# Groups\")\n",
    "    print(\n",
    "        yaml.dump(create_group_projects(GITHUB_ORG_MAPPING, cleaned_projects), default_flow_style=False, sort_keys=False)\n",
    "        .replace(\"'[\", \"[\")\n",
    "        .replace(\"]'\", \"]\")\n",
    "        .replace(\"''\", '\"')\n",
    "    )\n",
    "\n",
    "# To yaml format\n",
    "print(\"# Projects\")\n",
    "print(\n",
    "    yaml.dump(cleaned_projects, default_flow_style=False, sort_keys=False)\n",
    "    .replace(\"'[\", \"[\")\n",
    "    .replace(\"]'\", \"]\")\n",
    "    .replace(\"''\", '\"')\n",
    ")"
   ]
  },
  {
   "cell_type": "markdown",
   "metadata": {},
   "source": [
    "# Update projects.yaml\n",
    "\n",
    "Update the projects of an existing projects.yaml without adding new projects."
   ]
  },
  {
   "cell_type": "markdown",
   "metadata": {
    "ExecuteTime": {
     "end_time": "2022-01-10T23:32:24.224175Z",
     "start_time": "2022-01-10T23:32:24.199609Z"
    }
   },
   "source": [
    "## Load projects.yaml"
   ]
  },
  {
   "cell_type": "code",
   "execution_count": null,
   "metadata": {},
   "outputs": [],
   "source": [
    "# CHANGE: Add path to projects.yaml file\n",
    "BEST_OF_LIST_PROJECTS_PATH = \"../projects.yaml\"\n",
    "\n",
    "from best_of import generator\n",
    "\n",
    "_, existing_projects, _, _ = generator.parse_projects_yaml(BEST_OF_LIST_PROJECTS_PATH)\n",
    "\n",
    "# Show loaded projects\n",
    "qgrid.show_grid(\n",
    "    pd.DataFrame(existing_projects)\n",
    ")"
   ]
  },
  {
   "cell_type": "markdown",
   "metadata": {},
   "source": [
    "## Optional: Update Github IDs"
   ]
  },
  {
   "cell_type": "code",
   "execution_count": null,
   "metadata": {},
   "outputs": [],
   "source": [
    "def update_github_ids(projects: list) -> list:\n",
    "    for project in tqdm(projects):\n",
    "        if \"github_id\" not in project:\n",
    "            continue\n",
    "        \n",
    "        updated_project = Dict(project)\n",
    "        github_integration.update_via_github(updated_project)\n",
    "\n",
    "        if updated_project.updated_github_id:\n",
    "            # Apply updated github id:\n",
    "            old_github_id = project[\"github_id\"]\n",
    "            print(f\"Update Github ID: {old_github_id} -> {updated_project.updated_github_id}\")\n",
    "            project[\"github_id\"] = updated_project.updated_github_id\n",
    "\n",
    "update_github_ids(existing_projects)"
   ]
  },
  {
   "cell_type": "markdown",
   "metadata": {},
   "source": [
    "## Optional: Check if all homepage links are working"
   ]
  },
  {
   "cell_type": "code",
   "execution_count": null,
   "metadata": {
    "ExecuteTime": {
     "end_time": "2022-01-10T23:54:20.772800Z",
     "start_time": "2022-01-10T23:54:11.634106Z"
    }
   },
   "outputs": [],
   "source": [
    "import requests\n",
    "def website_works(url: str) -> bool:\n",
    "    try:\n",
    "        response = requests.head(url)\n",
    "        return response.status_code\n",
    "        if response.status_code == 200:\n",
    "            return True\n",
    "        elif response.status_code == 429:\n",
    "            time.sleep(100)\n",
    "            return website_works(url)\n",
    "        else:\n",
    "            print(f\"Status code: {response.status_code}\")\n",
    "            return False\n",
    "    except Exception as ex:\n",
    "        print(ex)\n",
    "        return False\n",
    "\n",
    "\n",
    "# https://stackoverflow.com/questions/16778435/python-check-if-website-exists\n",
    "for project in tqdm(existing_projects):\n",
    "    project = Dict(project)\n",
    "    if project.homepage and not website_works(project.homepage):\n",
    "        print(f\"The hompage of project {project.name} does not work: {project.homepage}\")\n",
    "    if project.docs_url and not website_works(project.docs_url):\n",
    "        print(f\"The docs_url of project {project.name} does not work: {project.docs_url}\")\n",
    "    if project.demo_url and not website_works(project.demo_url):\n",
    "        print(f\"The demo_url of project {project.name} does not work: {project.demo_url}\")"
   ]
  },
  {
   "cell_type": "markdown",
   "metadata": {},
   "source": [
    "## Optional: Auto discover project packages via libraries.io"
   ]
  },
  {
   "cell_type": "code",
   "execution_count": null,
   "metadata": {
    "ExecuteTime": {
     "end_time": "2022-01-10T23:38:49.259851Z",
     "start_time": "2022-01-10T23:35:02.619046Z"
    }
   },
   "outputs": [],
   "source": [
    "existing_projects = yaml_generation.auto_extend_via_libio(\n",
    "    existing_projects, selected_package_manager=None\n",
    ")"
   ]
  },
  {
   "cell_type": "markdown",
   "metadata": {},
   "source": [
    "## Fix duplicated names"
   ]
  },
  {
   "cell_type": "code",
   "execution_count": null,
   "metadata": {},
   "outputs": [],
   "source": [
    "df_updated_projects = pd.DataFrame(existing_projects)\n",
    "\n",
    "unique_names = set()\n",
    "projects = df_updated_projects.to_dict(\"records\")\n",
    "for project in projects:\n",
    "    name = project[\"name\"]\n",
    "    if \"github_id\" not in project:\n",
    "        # Does not have a github_id -> cannot be fixed\n",
    "        continue\n",
    "    github_id = project[\"github_id\"]\n",
    "    if name.lower() in unique_names:\n",
    "        print(f\"Duplicated name {name} -> replacing with {github_id}.\")\n",
    "        project[\"name\"] = project[\"github_id\"]\n",
    "    else:\n",
    "        unique_names.add(name.lower())\n",
    "\n",
    "df_updated_projects = pd.DataFrame(projects)"
   ]
  },
  {
   "cell_type": "markdown",
   "metadata": {},
   "source": [
    "## Show and manually modify data"
   ]
  },
  {
   "cell_type": "code",
   "execution_count": null,
   "metadata": {
    "ExecuteTime": {
     "end_time": "2022-01-10T23:47:17.118001Z",
     "start_time": "2022-01-10T23:47:17.027144Z"
    }
   },
   "outputs": [],
   "source": [
    "qgrid_select_projects = qgrid.show_grid(\n",
    "    df_updated_projects, show_toolbar=True\n",
    ")\n",
    "qgrid_select_projects"
   ]
  },
  {
   "cell_type": "markdown",
   "metadata": {},
   "source": [
    "## Export selected projects as YAML"
   ]
  },
  {
   "cell_type": "code",
   "execution_count": null,
   "metadata": {
    "ExecuteTime": {
     "end_time": "2022-01-11T00:04:07.195462Z",
     "start_time": "2022-01-11T00:04:07.025311Z"
    }
   },
   "outputs": [],
   "source": [
    "# Get changed df from qgrid widget\n",
    "df_selected_projects = qgrid_select_projects.get_changed_df()\n",
    "\n",
    "if \"projectrank\" in df_selected_projects:\n",
    "    df_selected_projects = df_selected_projects.drop([\"projectrank\"], axis=1)\n",
    "\n",
    "# Replace empty value with nan\n",
    "df_selected_projects.replace(\"\", np.nan, inplace=True)\n",
    "# Remove all null and nan values\n",
    "df_selected_projects = df_selected_projects.where(\n",
    "    pd.notnull(df_selected_projects), None\n",
    ")\n",
    "\n",
    "selected_projects = df_selected_projects.to_dict(\"records\")\n",
    "\n",
    "cleaned_projects = []\n",
    "for project in selected_projects:\n",
    "    if \"labels\" in project and project[\"labels\"]:\n",
    "        labels = project[\"labels\"]\n",
    "        if isinstance(project[\"labels\"], str):\n",
    "            labels = project[\"labels\"].split(\",\")\n",
    "\n",
    "        project[\"labels\"] = str([label.strip().lower() for label in labels])\n",
    "\n",
    "    cleaned_projects.append({k: v for k, v in project.items() if v is not None})\n",
    "\n",
    "# Sort by category (TODO: do not sort?)\n",
    "# cleaned_projects = sorted(\n",
    "#     cleaned_projects, key=lambda k: str(k[\"category\"]) if \"category\" in k else \"zzz\"\n",
    "# )\n",
    "\n",
    "print(\n",
    "    yaml.dump(cleaned_projects, default_flow_style=False, sort_keys=False)\n",
    "    .replace(\"'[\", \"[\")\n",
    "    .replace(\"]'\", \"]\")\n",
    "    .replace(\"''\", '\"')\n",
    ")"
   ]
  }
 ],
 "metadata": {
  "kernelspec": {
   "display_name": "Python 3",
   "language": "python",
   "name": "python3"
  },
  "language_info": {
   "codemirror_mode": {
    "name": "ipython",
    "version": 3
   },
   "file_extension": ".py",
   "mimetype": "text/x-python",
   "name": "python",
   "nbconvert_exporter": "python",
   "pygments_lexer": "ipython3",
   "version": "3.8.10"
  },
  "toc": {
   "base_numbering": 1,
   "nav_menu": {},
   "number_sections": false,
   "sideBar": true,
   "skip_h1_title": false,
   "title_cell": "Table of Contents",
   "title_sidebar": "Contents",
   "toc_cell": false,
   "toc_position": {
    "height": "calc(100% - 180px)",
    "left": "10px",
    "top": "150px",
    "width": "384px"
   },
   "toc_section_display": true,
   "toc_window_display": false
  }
 },
 "nbformat": 4,
 "nbformat_minor": 2
}
